{
 "cells": [
  {
   "cell_type": "markdown",
   "metadata": {},
   "source": [
    "# Churn Prediction for Banking Customers"
   ]
  },
  {
   "cell_type": "markdown",
   "metadata": {},
   "source": [
    ">Ming Zhao\n",
    "<br>\n",
    ">October 10, 2021"
   ]
  },
  {
   "cell_type": "markdown",
   "metadata": {},
   "source": [
    "### Project Goals\n",
    "\n",
    "1. To identify customers who are likely to churn\n",
    "2. To identify top factors that influence customer retention"
   ]
  },
  {
   "cell_type": "markdown",
   "metadata": {},
   "source": [
    "### Dataset\n",
    "\n",
    "https://www.kaggle.com/adammaus/predicting-churn-for-bank-customers"
   ]
  },
  {
   "cell_type": "markdown",
   "metadata": {},
   "source": [
    "### Outline\n",
    "\n",
    "-   Data Cleaning   \n",
    "-   Exploratory Data Analysis\n",
    "    - Univariate\n",
    "    - Bivariate\n",
    "-   Feature Engineering\n",
    "-   Modelling\n",
    "    - Dataset Splitting\n",
    "    - Model Training\n",
    "        - **Logistic Regression**\n",
    "        - **KNN**\n",
    "        - **Random Forest**  \n",
    "    - Model Selection\n",
    "        - 5-Fold Cross Validation\n",
    "        - Grid Search for Optimal Hyperparameters\n",
    "    - Model Evaluation\n",
    "        - Accuracy, Precision, Recall\n",
    "        - ROC-AUC   \n",
    "-   Discussion\n",
    "    - Feature Selection - Logistic Regression\n",
    "    - Feature Importance - Random Forest\n",
    "<br>"
   ]
  },
  {
   "cell_type": "markdown",
   "metadata": {},
   "source": [
    "***"
   ]
  },
  {
   "cell_type": "code",
   "execution_count": 1,
   "metadata": {
    "scrolled": true
   },
   "outputs": [],
   "source": [
    "import pandas as pd\n",
    "import numpy as np\n",
    "import matplotlib.pyplot as plt\n",
    "import seaborn as sns\n",
    "import plotnine as p9\n",
    "\n",
    "from sklearn.preprocessing import scale\n",
    "from sklearn.model_selection import train_test_split\n",
    "\n",
    "from sklearn.linear_model import LogisticRegression\n",
    "from sklearn.neighbors import KNeighborsClassifier\n",
    "from sklearn.ensemble import RandomForestClassifier\n",
    "\n",
    "from sklearn.model_selection import cross_val_score\n",
    "from sklearn.model_selection import GridSearchCV\n",
    "\n",
    "from sklearn.metrics import confusion_matrix\n",
    "from sklearn.metrics import classification_report\n",
    "from sklearn.metrics import roc_curve\n",
    "from sklearn.metrics import auc\n",
    "\n",
    "import warnings\n",
    "warnings.filterwarnings(\"ignore\") "
   ]
  },
  {
   "cell_type": "markdown",
   "metadata": {},
   "source": [
    "***"
   ]
  },
  {
   "cell_type": "markdown",
   "metadata": {},
   "source": [
    "## Data Cleaning"
   ]
  },
  {
   "cell_type": "code",
   "execution_count": 2,
   "metadata": {},
   "outputs": [],
   "source": [
    "# Load data into dataframe\n",
    "churn_df = pd.read_csv('Churn_Modelling.csv')"
   ]
  },
  {
   "cell_type": "code",
   "execution_count": 3,
   "metadata": {},
   "outputs": [
    {
     "data": {
      "text/plain": [
       "(10000, 14)"
      ]
     },
     "execution_count": 3,
     "metadata": {},
     "output_type": "execute_result"
    }
   ],
   "source": [
    "churn_df.shape"
   ]
  },
  {
   "cell_type": "code",
   "execution_count": 4,
   "metadata": {},
   "outputs": [
    {
     "data": {
      "text/html": [
       "<div>\n",
       "<style scoped>\n",
       "    .dataframe tbody tr th:only-of-type {\n",
       "        vertical-align: middle;\n",
       "    }\n",
       "\n",
       "    .dataframe tbody tr th {\n",
       "        vertical-align: top;\n",
       "    }\n",
       "\n",
       "    .dataframe thead th {\n",
       "        text-align: right;\n",
       "    }\n",
       "</style>\n",
       "<table border=\"1\" class=\"dataframe\">\n",
       "  <thead>\n",
       "    <tr style=\"text-align: right;\">\n",
       "      <th></th>\n",
       "      <th>RowNumber</th>\n",
       "      <th>CustomerId</th>\n",
       "      <th>Surname</th>\n",
       "      <th>CreditScore</th>\n",
       "      <th>Geography</th>\n",
       "      <th>Gender</th>\n",
       "      <th>Age</th>\n",
       "      <th>Tenure</th>\n",
       "      <th>Balance</th>\n",
       "      <th>NumOfProducts</th>\n",
       "      <th>HasCrCard</th>\n",
       "      <th>IsActiveMember</th>\n",
       "      <th>EstimatedSalary</th>\n",
       "      <th>Exited</th>\n",
       "    </tr>\n",
       "  </thead>\n",
       "  <tbody>\n",
       "    <tr>\n",
       "      <th>0</th>\n",
       "      <td>1</td>\n",
       "      <td>15634602</td>\n",
       "      <td>Hargrave</td>\n",
       "      <td>619</td>\n",
       "      <td>France</td>\n",
       "      <td>Female</td>\n",
       "      <td>42</td>\n",
       "      <td>2</td>\n",
       "      <td>0.00</td>\n",
       "      <td>1</td>\n",
       "      <td>1</td>\n",
       "      <td>1</td>\n",
       "      <td>101348.88</td>\n",
       "      <td>1</td>\n",
       "    </tr>\n",
       "    <tr>\n",
       "      <th>1</th>\n",
       "      <td>2</td>\n",
       "      <td>15647311</td>\n",
       "      <td>Hill</td>\n",
       "      <td>608</td>\n",
       "      <td>Spain</td>\n",
       "      <td>Female</td>\n",
       "      <td>41</td>\n",
       "      <td>1</td>\n",
       "      <td>83807.86</td>\n",
       "      <td>1</td>\n",
       "      <td>0</td>\n",
       "      <td>1</td>\n",
       "      <td>112542.58</td>\n",
       "      <td>0</td>\n",
       "    </tr>\n",
       "    <tr>\n",
       "      <th>2</th>\n",
       "      <td>3</td>\n",
       "      <td>15619304</td>\n",
       "      <td>Onio</td>\n",
       "      <td>502</td>\n",
       "      <td>France</td>\n",
       "      <td>Female</td>\n",
       "      <td>42</td>\n",
       "      <td>8</td>\n",
       "      <td>159660.80</td>\n",
       "      <td>3</td>\n",
       "      <td>1</td>\n",
       "      <td>0</td>\n",
       "      <td>113931.57</td>\n",
       "      <td>1</td>\n",
       "    </tr>\n",
       "    <tr>\n",
       "      <th>3</th>\n",
       "      <td>4</td>\n",
       "      <td>15701354</td>\n",
       "      <td>Boni</td>\n",
       "      <td>699</td>\n",
       "      <td>France</td>\n",
       "      <td>Female</td>\n",
       "      <td>39</td>\n",
       "      <td>1</td>\n",
       "      <td>0.00</td>\n",
       "      <td>2</td>\n",
       "      <td>0</td>\n",
       "      <td>0</td>\n",
       "      <td>93826.63</td>\n",
       "      <td>0</td>\n",
       "    </tr>\n",
       "    <tr>\n",
       "      <th>4</th>\n",
       "      <td>5</td>\n",
       "      <td>15737888</td>\n",
       "      <td>Mitchell</td>\n",
       "      <td>850</td>\n",
       "      <td>Spain</td>\n",
       "      <td>Female</td>\n",
       "      <td>43</td>\n",
       "      <td>2</td>\n",
       "      <td>125510.82</td>\n",
       "      <td>1</td>\n",
       "      <td>1</td>\n",
       "      <td>1</td>\n",
       "      <td>79084.10</td>\n",
       "      <td>0</td>\n",
       "    </tr>\n",
       "  </tbody>\n",
       "</table>\n",
       "</div>"
      ],
      "text/plain": [
       "   RowNumber  CustomerId   Surname  CreditScore Geography  Gender  Age  \\\n",
       "0          1    15634602  Hargrave          619    France  Female   42   \n",
       "1          2    15647311      Hill          608     Spain  Female   41   \n",
       "2          3    15619304      Onio          502    France  Female   42   \n",
       "3          4    15701354      Boni          699    France  Female   39   \n",
       "4          5    15737888  Mitchell          850     Spain  Female   43   \n",
       "\n",
       "   Tenure    Balance  NumOfProducts  HasCrCard  IsActiveMember  \\\n",
       "0       2       0.00              1          1               1   \n",
       "1       1   83807.86              1          0               1   \n",
       "2       8  159660.80              3          1               0   \n",
       "3       1       0.00              2          0               0   \n",
       "4       2  125510.82              1          1               1   \n",
       "\n",
       "   EstimatedSalary  Exited  \n",
       "0        101348.88       1  \n",
       "1        112542.58       0  \n",
       "2        113931.57       1  \n",
       "3         93826.63       0  \n",
       "4         79084.10       0  "
      ]
     },
     "execution_count": 4,
     "metadata": {},
     "output_type": "execute_result"
    }
   ],
   "source": [
    "churn_df.head()"
   ]
  },
  {
   "cell_type": "code",
   "execution_count": 5,
   "metadata": {
    "scrolled": true
   },
   "outputs": [
    {
     "name": "stdout",
     "output_type": "stream",
     "text": [
      "<class 'pandas.core.frame.DataFrame'>\n",
      "RangeIndex: 10000 entries, 0 to 9999\n",
      "Data columns (total 14 columns):\n",
      " #   Column           Non-Null Count  Dtype  \n",
      "---  ------           --------------  -----  \n",
      " 0   RowNumber        10000 non-null  int64  \n",
      " 1   CustomerId       10000 non-null  int64  \n",
      " 2   Surname          10000 non-null  object \n",
      " 3   CreditScore      10000 non-null  int64  \n",
      " 4   Geography        10000 non-null  object \n",
      " 5   Gender           10000 non-null  object \n",
      " 6   Age              10000 non-null  int64  \n",
      " 7   Tenure           10000 non-null  int64  \n",
      " 8   Balance          10000 non-null  float64\n",
      " 9   NumOfProducts    10000 non-null  int64  \n",
      " 10  HasCrCard        10000 non-null  int64  \n",
      " 11  IsActiveMember   10000 non-null  int64  \n",
      " 12  EstimatedSalary  10000 non-null  float64\n",
      " 13  Exited           10000 non-null  int64  \n",
      "dtypes: float64(2), int64(9), object(3)\n",
      "memory usage: 1.1+ MB\n"
     ]
    }
   ],
   "source": [
    "# Check data information\n",
    "churn_df.info()"
   ]
  },
  {
   "cell_type": "code",
   "execution_count": 6,
   "metadata": {},
   "outputs": [
    {
     "data": {
      "text/plain": [
       "RowNumber          0\n",
       "CustomerId         0\n",
       "Surname            0\n",
       "CreditScore        0\n",
       "Geography          0\n",
       "Gender             0\n",
       "Age                0\n",
       "Tenure             0\n",
       "Balance            0\n",
       "NumOfProducts      0\n",
       "HasCrCard          0\n",
       "IsActiveMember     0\n",
       "EstimatedSalary    0\n",
       "Exited             0\n",
       "dtype: int64"
      ]
     },
     "execution_count": 6,
     "metadata": {},
     "output_type": "execute_result"
    }
   ],
   "source": [
    "# Check missing values\n",
    "churn_df.isnull().sum()"
   ]
  },
  {
   "cell_type": "code",
   "execution_count": 7,
   "metadata": {
    "scrolled": false
   },
   "outputs": [
    {
     "data": {
      "text/plain": [
       "RowNumber          10000\n",
       "CustomerId         10000\n",
       "Surname             2932\n",
       "CreditScore          460\n",
       "Geography              3\n",
       "Gender                 2\n",
       "Age                   70\n",
       "Tenure                11\n",
       "Balance             6382\n",
       "NumOfProducts          4\n",
       "HasCrCard              2\n",
       "IsActiveMember         2\n",
       "EstimatedSalary     9999\n",
       "Exited                 2\n",
       "dtype: int64"
      ]
     },
     "execution_count": 7,
     "metadata": {},
     "output_type": "execute_result"
    }
   ],
   "source": [
    "# Check the unique values for each column\n",
    "churn_df.nunique()"
   ]
  },
  {
   "cell_type": "markdown",
   "metadata": {},
   "source": [
    "***"
   ]
  },
  {
   "cell_type": "markdown",
   "metadata": {},
   "source": [
    "## Exploratory Data Analysis"
   ]
  },
  {
   "cell_type": "markdown",
   "metadata": {},
   "source": [
    "### Univariate Analysis"
   ]
  },
  {
   "cell_type": "code",
   "execution_count": 8,
   "metadata": {},
   "outputs": [
    {
     "name": "stdout",
     "output_type": "stream",
     "text": [
      "0    7963\n",
      "1    2037\n",
      "Name: Exited, dtype: int64\n",
      "0    0.7963\n",
      "1    0.2037\n",
      "Name: Exited, dtype: float64\n"
     ]
    }
   ],
   "source": [
    "# Check the value counts of y\n",
    "print(churn_df['Exited'].value_counts())\n",
    "\n",
    "# Check the value proportions of y\n",
    "print(churn_df['Exited'].value_counts(normalize=True))"
   ]
  },
  {
   "cell_type": "code",
   "execution_count": 9,
   "metadata": {},
   "outputs": [
    {
     "data": {
      "text/html": [
       "<div>\n",
       "<style scoped>\n",
       "    .dataframe tbody tr th:only-of-type {\n",
       "        vertical-align: middle;\n",
       "    }\n",
       "\n",
       "    .dataframe tbody tr th {\n",
       "        vertical-align: top;\n",
       "    }\n",
       "\n",
       "    .dataframe thead th {\n",
       "        text-align: right;\n",
       "    }\n",
       "</style>\n",
       "<table border=\"1\" class=\"dataframe\">\n",
       "  <thead>\n",
       "    <tr style=\"text-align: right;\">\n",
       "      <th></th>\n",
       "      <th>var</th>\n",
       "      <th>value</th>\n",
       "      <th>count</th>\n",
       "      <th>percent</th>\n",
       "    </tr>\n",
       "  </thead>\n",
       "  <tbody>\n",
       "    <tr>\n",
       "      <th>0</th>\n",
       "      <td>Gender</td>\n",
       "      <td>Female</td>\n",
       "      <td>4543</td>\n",
       "      <td>45.43</td>\n",
       "    </tr>\n",
       "    <tr>\n",
       "      <th>1</th>\n",
       "      <td>Gender</td>\n",
       "      <td>Male</td>\n",
       "      <td>5457</td>\n",
       "      <td>54.57</td>\n",
       "    </tr>\n",
       "    <tr>\n",
       "      <th>2</th>\n",
       "      <td>Geography</td>\n",
       "      <td>France</td>\n",
       "      <td>5014</td>\n",
       "      <td>50.14</td>\n",
       "    </tr>\n",
       "    <tr>\n",
       "      <th>3</th>\n",
       "      <td>Geography</td>\n",
       "      <td>Germany</td>\n",
       "      <td>2509</td>\n",
       "      <td>25.09</td>\n",
       "    </tr>\n",
       "    <tr>\n",
       "      <th>4</th>\n",
       "      <td>Geography</td>\n",
       "      <td>Spain</td>\n",
       "      <td>2477</td>\n",
       "      <td>24.77</td>\n",
       "    </tr>\n",
       "    <tr>\n",
       "      <th>5</th>\n",
       "      <td>HasCrCard</td>\n",
       "      <td>0</td>\n",
       "      <td>2945</td>\n",
       "      <td>29.45</td>\n",
       "    </tr>\n",
       "    <tr>\n",
       "      <th>6</th>\n",
       "      <td>HasCrCard</td>\n",
       "      <td>1</td>\n",
       "      <td>7055</td>\n",
       "      <td>70.55</td>\n",
       "    </tr>\n",
       "    <tr>\n",
       "      <th>7</th>\n",
       "      <td>IsActiveMember</td>\n",
       "      <td>0</td>\n",
       "      <td>4849</td>\n",
       "      <td>48.49</td>\n",
       "    </tr>\n",
       "    <tr>\n",
       "      <th>8</th>\n",
       "      <td>IsActiveMember</td>\n",
       "      <td>1</td>\n",
       "      <td>5151</td>\n",
       "      <td>51.51</td>\n",
       "    </tr>\n",
       "  </tbody>\n",
       "</table>\n",
       "</div>"
      ],
      "text/plain": [
       "              var    value  count  percent\n",
       "0          Gender   Female   4543    45.43\n",
       "1          Gender     Male   5457    54.57\n",
       "2       Geography   France   5014    50.14\n",
       "3       Geography  Germany   2509    25.09\n",
       "4       Geography    Spain   2477    24.77\n",
       "5       HasCrCard        0   2945    29.45\n",
       "6       HasCrCard        1   7055    70.55\n",
       "7  IsActiveMember        0   4849    48.49\n",
       "8  IsActiveMember        1   5151    51.51"
      ]
     },
     "execution_count": 9,
     "metadata": {},
     "output_type": "execute_result"
    }
   ],
   "source": [
    "# Summarize continuous features\n",
    "categorical = ['Geography', 'Gender', 'HasCrCard', 'IsActiveMember']\n",
    "cat_df = churn_df[categorical].melt(value_name='value', var_name='var')\n",
    "cat_df = cat_df.groupby(['var', 'value']).size().reset_index(name='count')\n",
    "cat_df['percent'] = cat_df['count'].div(cat_df.groupby('var')['count'].transform('sum')).mul(100)\n",
    "cat_df"
   ]
  },
  {
   "cell_type": "code",
   "execution_count": 10,
   "metadata": {
    "scrolled": true
   },
   "outputs": [
    {
     "data": {
      "text/html": [
       "<div>\n",
       "<style scoped>\n",
       "    .dataframe tbody tr th:only-of-type {\n",
       "        vertical-align: middle;\n",
       "    }\n",
       "\n",
       "    .dataframe tbody tr th {\n",
       "        vertical-align: top;\n",
       "    }\n",
       "\n",
       "    .dataframe thead th {\n",
       "        text-align: right;\n",
       "    }\n",
       "</style>\n",
       "<table border=\"1\" class=\"dataframe\">\n",
       "  <thead>\n",
       "    <tr style=\"text-align: right;\">\n",
       "      <th></th>\n",
       "      <th>CreditScore</th>\n",
       "      <th>Age</th>\n",
       "      <th>Tenure</th>\n",
       "      <th>NumOfProducts</th>\n",
       "      <th>Balance</th>\n",
       "      <th>EstimatedSalary</th>\n",
       "    </tr>\n",
       "  </thead>\n",
       "  <tbody>\n",
       "    <tr>\n",
       "      <th>count</th>\n",
       "      <td>10000.000000</td>\n",
       "      <td>10000.000000</td>\n",
       "      <td>10000.000000</td>\n",
       "      <td>10000.000000</td>\n",
       "      <td>10000.000000</td>\n",
       "      <td>10000.000000</td>\n",
       "    </tr>\n",
       "    <tr>\n",
       "      <th>mean</th>\n",
       "      <td>650.528800</td>\n",
       "      <td>38.921800</td>\n",
       "      <td>5.012800</td>\n",
       "      <td>1.530200</td>\n",
       "      <td>76485.889288</td>\n",
       "      <td>100090.239881</td>\n",
       "    </tr>\n",
       "    <tr>\n",
       "      <th>std</th>\n",
       "      <td>96.653299</td>\n",
       "      <td>10.487806</td>\n",
       "      <td>2.892174</td>\n",
       "      <td>0.581654</td>\n",
       "      <td>62397.405202</td>\n",
       "      <td>57510.492818</td>\n",
       "    </tr>\n",
       "    <tr>\n",
       "      <th>min</th>\n",
       "      <td>350.000000</td>\n",
       "      <td>18.000000</td>\n",
       "      <td>0.000000</td>\n",
       "      <td>1.000000</td>\n",
       "      <td>0.000000</td>\n",
       "      <td>11.580000</td>\n",
       "    </tr>\n",
       "    <tr>\n",
       "      <th>25%</th>\n",
       "      <td>584.000000</td>\n",
       "      <td>32.000000</td>\n",
       "      <td>3.000000</td>\n",
       "      <td>1.000000</td>\n",
       "      <td>0.000000</td>\n",
       "      <td>51002.110000</td>\n",
       "    </tr>\n",
       "    <tr>\n",
       "      <th>50%</th>\n",
       "      <td>652.000000</td>\n",
       "      <td>37.000000</td>\n",
       "      <td>5.000000</td>\n",
       "      <td>1.000000</td>\n",
       "      <td>97198.540000</td>\n",
       "      <td>100193.915000</td>\n",
       "    </tr>\n",
       "    <tr>\n",
       "      <th>75%</th>\n",
       "      <td>718.000000</td>\n",
       "      <td>44.000000</td>\n",
       "      <td>7.000000</td>\n",
       "      <td>2.000000</td>\n",
       "      <td>127644.240000</td>\n",
       "      <td>149388.247500</td>\n",
       "    </tr>\n",
       "    <tr>\n",
       "      <th>max</th>\n",
       "      <td>850.000000</td>\n",
       "      <td>92.000000</td>\n",
       "      <td>10.000000</td>\n",
       "      <td>4.000000</td>\n",
       "      <td>250898.090000</td>\n",
       "      <td>199992.480000</td>\n",
       "    </tr>\n",
       "  </tbody>\n",
       "</table>\n",
       "</div>"
      ],
      "text/plain": [
       "        CreditScore           Age        Tenure  NumOfProducts        Balance  \\\n",
       "count  10000.000000  10000.000000  10000.000000   10000.000000   10000.000000   \n",
       "mean     650.528800     38.921800      5.012800       1.530200   76485.889288   \n",
       "std       96.653299     10.487806      2.892174       0.581654   62397.405202   \n",
       "min      350.000000     18.000000      0.000000       1.000000       0.000000   \n",
       "25%      584.000000     32.000000      3.000000       1.000000       0.000000   \n",
       "50%      652.000000     37.000000      5.000000       1.000000   97198.540000   \n",
       "75%      718.000000     44.000000      7.000000       2.000000  127644.240000   \n",
       "max      850.000000     92.000000     10.000000       4.000000  250898.090000   \n",
       "\n",
       "       EstimatedSalary  \n",
       "count     10000.000000  \n",
       "mean     100090.239881  \n",
       "std       57510.492818  \n",
       "min          11.580000  \n",
       "25%       51002.110000  \n",
       "50%      100193.915000  \n",
       "75%      149388.247500  \n",
       "max      199992.480000  "
      ]
     },
     "execution_count": 10,
     "metadata": {},
     "output_type": "execute_result"
    }
   ],
   "source": [
    "# Summarize continuous features\n",
    "continuous = ['CreditScore', 'Age', 'Tenure', 'NumOfProducts','Balance', 'EstimatedSalary']\n",
    "churn_df[continuous].describe()"
   ]
  },
  {
   "cell_type": "markdown",
   "metadata": {},
   "source": [
    "### Bivariate Analysis"
   ]
  },
  {
   "cell_type": "code",
   "execution_count": 11,
   "metadata": {},
   "outputs": [
    {
     "data": {
      "image/png": "[encoded data removed]",
      "text/plain": [
       "<Figure size 720x576 with 4 Axes>"
      ]
     },
     "metadata": {
      "needs_background": "light"
     },
     "output_type": "display_data"
    }
   ],
   "source": [
    "# barplot for categorical features vs. y\n",
    "fig,axss = plt.subplots(2,2, figsize=[10,8])\n",
    "sns.countplot(x='Exited', hue='Geography', data=churn_df, ax=axss[0][0]).set(title='Geography')\n",
    "sns.countplot(x='Exited', hue='Gender', data=churn_df, ax=axss[0][1]).set(title='Gender')\n",
    "sns.countplot(x='Exited', hue='HasCrCard', data=churn_df, ax=axss[1][0]).set(title='HasCrCard')\n",
    "sns.countplot(x='Exited', hue='IsActiveMember', data=churn_df, ax=axss[1][1]).set(title='IsActiveMember')\n",
    "plt.subplots_adjust(wspace=0.3, hspace=0.35, top=0.89)\n",
    "fig.suptitle('Categorical Features by Outcome', fontsize=18)\n",
    "plt.show()"
   ]
  },
  {
   "cell_type": "code",
   "execution_count": 12,
   "metadata": {},
   "outputs": [
    {
     "data": {
      "image/png": "[encoded data removed]",
      "text/plain": [
       "<Figure size 1008x576 with 6 Axes>"
      ]
     },
     "metadata": {
      "needs_background": "light"
     },
     "output_type": "display_data"
    }
   ],
   "source": [
    "# boxplot for numerical features vs. y\n",
    "fig,axss = plt.subplots(2,3, figsize=[14,8])\n",
    "sns.boxplot(x='Exited', y ='CreditScore', data=churn_df, ax=axss[0][0]).set(title='Credit Score')\n",
    "sns.boxplot(x='Exited', y ='Age', data=churn_df, ax=axss[0][1]).set(title='Age')\n",
    "sns.boxplot(x='Exited', y ='Tenure', data=churn_df, ax=axss[0][2]).set(title='Tenure')\n",
    "sns.boxplot(x='Exited', y ='NumOfProducts', data=churn_df, ax=axss[1][0]).set(title='Num of Products')\n",
    "sns.boxplot(x='Exited', y ='Balance', data=churn_df, ax=axss[1][1]).set(title='Balance')\n",
    "sns.boxplot(x='Exited', y ='EstimatedSalary', data=churn_df, ax=axss[1][2]).set(title='Estimated Salary')\n",
    "plt.subplots_adjust(wspace=0.3, hspace=0.35, top=0.89)\n",
    "fig.suptitle('Continuous Features by Outcome', fontsize=18)\n",
    "plt.show()"
   ]
  },
  {
   "cell_type": "code",
   "execution_count": 13,
   "metadata": {},
   "outputs": [
    {
     "data": {
      "text/html": [
       "<div>\n",
       "<style scoped>\n",
       "    .dataframe tbody tr th:only-of-type {\n",
       "        vertical-align: middle;\n",
       "    }\n",
       "\n",
       "    .dataframe tbody tr th {\n",
       "        vertical-align: top;\n",
       "    }\n",
       "\n",
       "    .dataframe thead th {\n",
       "        text-align: right;\n",
       "    }\n",
       "</style>\n",
       "<table border=\"1\" class=\"dataframe\">\n",
       "  <thead>\n",
       "    <tr style=\"text-align: right;\">\n",
       "      <th></th>\n",
       "      <th>CreditScore</th>\n",
       "      <th>Age</th>\n",
       "      <th>Tenure</th>\n",
       "      <th>NumOfProducts</th>\n",
       "      <th>Balance</th>\n",
       "      <th>EstimatedSalary</th>\n",
       "    </tr>\n",
       "  </thead>\n",
       "  <tbody>\n",
       "    <tr>\n",
       "      <th>CreditScore</th>\n",
       "      <td>1.000000</td>\n",
       "      <td>-0.003965</td>\n",
       "      <td>0.000842</td>\n",
       "      <td>0.012238</td>\n",
       "      <td>0.006268</td>\n",
       "      <td>-0.001384</td>\n",
       "    </tr>\n",
       "    <tr>\n",
       "      <th>Age</th>\n",
       "      <td>-0.003965</td>\n",
       "      <td>1.000000</td>\n",
       "      <td>-0.009997</td>\n",
       "      <td>-0.030680</td>\n",
       "      <td>0.028308</td>\n",
       "      <td>-0.007201</td>\n",
       "    </tr>\n",
       "    <tr>\n",
       "      <th>Tenure</th>\n",
       "      <td>0.000842</td>\n",
       "      <td>-0.009997</td>\n",
       "      <td>1.000000</td>\n",
       "      <td>0.013444</td>\n",
       "      <td>-0.012254</td>\n",
       "      <td>0.007784</td>\n",
       "    </tr>\n",
       "    <tr>\n",
       "      <th>NumOfProducts</th>\n",
       "      <td>0.012238</td>\n",
       "      <td>-0.030680</td>\n",
       "      <td>0.013444</td>\n",
       "      <td>1.000000</td>\n",
       "      <td>-0.304180</td>\n",
       "      <td>0.014204</td>\n",
       "    </tr>\n",
       "    <tr>\n",
       "      <th>Balance</th>\n",
       "      <td>0.006268</td>\n",
       "      <td>0.028308</td>\n",
       "      <td>-0.012254</td>\n",
       "      <td>-0.304180</td>\n",
       "      <td>1.000000</td>\n",
       "      <td>0.012797</td>\n",
       "    </tr>\n",
       "    <tr>\n",
       "      <th>EstimatedSalary</th>\n",
       "      <td>-0.001384</td>\n",
       "      <td>-0.007201</td>\n",
       "      <td>0.007784</td>\n",
       "      <td>0.014204</td>\n",
       "      <td>0.012797</td>\n",
       "      <td>1.000000</td>\n",
       "    </tr>\n",
       "  </tbody>\n",
       "</table>\n",
       "</div>"
      ],
      "text/plain": [
       "                 CreditScore       Age    Tenure  NumOfProducts   Balance  \\\n",
       "CreditScore         1.000000 -0.003965  0.000842       0.012238  0.006268   \n",
       "Age                -0.003965  1.000000 -0.009997      -0.030680  0.028308   \n",
       "Tenure              0.000842 -0.009997  1.000000       0.013444 -0.012254   \n",
       "NumOfProducts       0.012238 -0.030680  0.013444       1.000000 -0.304180   \n",
       "Balance             0.006268  0.028308 -0.012254      -0.304180  1.000000   \n",
       "EstimatedSalary    -0.001384 -0.007201  0.007784       0.014204  0.012797   \n",
       "\n",
       "                 EstimatedSalary  \n",
       "CreditScore            -0.001384  \n",
       "Age                    -0.007201  \n",
       "Tenure                  0.007784  \n",
       "NumOfProducts           0.014204  \n",
       "Balance                 0.012797  \n",
       "EstimatedSalary         1.000000  "
      ]
     },
     "execution_count": 13,
     "metadata": {},
     "output_type": "execute_result"
    }
   ],
   "source": [
    "# correlations between features\n",
    "corr_score = churn_df[continuous].corr()\n",
    "corr_score"
   ]
  },
  {
   "cell_type": "code",
   "execution_count": 14,
   "metadata": {},
   "outputs": [
    {
     "data": {
      "image/png": "[encoded data removed]",
      "text/plain": [
       "<Figure size 432x288 with 2 Axes>"
      ]
     },
     "metadata": {
      "needs_background": "light"
     },
     "output_type": "display_data"
    }
   ],
   "source": [
    "# heapmap of correlations\n",
    "sns.heatmap(corr_score)\n",
    "plt.show()"
   ]
  },
  {
   "cell_type": "markdown",
   "metadata": {},
   "source": [
    "***"
   ]
  },
  {
   "cell_type": "markdown",
   "metadata": {},
   "source": [
    "## Feature Engineering"
   ]
  },
  {
   "cell_type": "code",
   "execution_count": 15,
   "metadata": {},
   "outputs": [],
   "source": [
    "# Drop useless features\n",
    "to_drop = ['RowNumber','CustomerId','Surname']\n",
    "data = churn_df.drop(to_drop, axis=1)"
   ]
  },
  {
   "cell_type": "code",
   "execution_count": 16,
   "metadata": {},
   "outputs": [],
   "source": [
    "# ordinal encoding\n",
    "data['Gender'] = np.where(data['Gender']=='Female', 1, 0)\n",
    "\n",
    "# one-hot encoding\n",
    "data = pd.get_dummies(data, drop_first=True)"
   ]
  },
  {
   "cell_type": "code",
   "execution_count": 17,
   "metadata": {},
   "outputs": [],
   "source": [
    "# Obtain y\n",
    "y = data['Exited']\n",
    "\n",
    "# Obtain X\n",
    "X = data.drop(['Exited'], axis=1)\n",
    "\n",
    "# Obtain feature names\n",
    "features = X.columns"
   ]
  },
  {
   "cell_type": "code",
   "execution_count": 18,
   "metadata": {
    "scrolled": true
   },
   "outputs": [],
   "source": [
    "# Standardize X\n",
    "X = scale(X)"
   ]
  },
  {
   "cell_type": "markdown",
   "metadata": {},
   "source": [
    "***"
   ]
  },
  {
   "cell_type": "markdown",
   "metadata": {},
   "source": [
    "## Model Training and Evaluation"
   ]
  },
  {
   "cell_type": "markdown",
   "metadata": {},
   "source": [
    "### Dataset Splitting"
   ]
  },
  {
   "cell_type": "code",
   "execution_count": 19,
   "metadata": {},
   "outputs": [
    {
     "name": "stdout",
     "output_type": "stream",
     "text": [
      "Training set has 8000 observations with 11 features\n",
      "Testing set has 2000 observations with 11 features\n"
     ]
    }
   ],
   "source": [
    "# Split data into training and testing\n",
    "X_train, X_test, y_train, y_test = train_test_split(X, y, test_size=0.20, stratify = y, random_state=1)\n",
    "\n",
    "print('Training set has ' + str(X_train.shape[0]) + ' observations with ' + str(X_train.shape[1]) + ' features')\n",
    "print('Testing set has ' + str(X_test.shape[0]) + ' observations with ' + str(X_test.shape[1]) + ' features')"
   ]
  },
  {
   "cell_type": "markdown",
   "metadata": {},
   "source": [
    "### Model Training"
   ]
  },
  {
   "cell_type": "markdown",
   "metadata": {},
   "source": [
    "#### Logistic Regression"
   ]
  },
  {
   "cell_type": "code",
   "execution_count": 20,
   "metadata": {},
   "outputs": [
    {
     "data": {
      "text/plain": [
       "LogisticRegression(random_state=2021)"
      ]
     },
     "execution_count": 20,
     "metadata": {},
     "output_type": "execute_result"
    }
   ],
   "source": [
    "# Initiate model\n",
    "classifier_logistic = LogisticRegression(random_state=2021)\n",
    "\n",
    "# Train model\n",
    "classifier_logistic.fit(X_train, y_train)"
   ]
  },
  {
   "cell_type": "code",
   "execution_count": 21,
   "metadata": {},
   "outputs": [
    {
     "name": "stdout",
     "output_type": "stream",
     "text": [
      "Accuracy of logistic regression classifier on training set: 0.811\n"
     ]
    }
   ],
   "source": [
    "# accuracy on training set\n",
    "logit_accuracy = classifier_logistic.score(X_train, y_train)\n",
    "\n",
    "print('Accuracy of logistic regression classifier on training set: {:.3f}'.format(logit_accuracy))"
   ]
  },
  {
   "cell_type": "markdown",
   "metadata": {},
   "source": [
    "#### KNN"
   ]
  },
  {
   "cell_type": "code",
   "execution_count": 22,
   "metadata": {},
   "outputs": [
    {
     "data": {
      "text/plain": [
       "KNeighborsClassifier()"
      ]
     },
     "execution_count": 22,
     "metadata": {},
     "output_type": "execute_result"
    }
   ],
   "source": [
    "# Initiate model\n",
    "classifier_KNN = KNeighborsClassifier()\n",
    "\n",
    "# Train model\n",
    "classifier_KNN.fit(X_train, y_train)"
   ]
  },
  {
   "cell_type": "code",
   "execution_count": 23,
   "metadata": {},
   "outputs": [
    {
     "name": "stdout",
     "output_type": "stream",
     "text": [
      "Accuracy of KNN classifier on training set: 0.875\n"
     ]
    }
   ],
   "source": [
    "# accuracy on training set\n",
    "knn_accuracy = classifier_KNN.score(X_train, y_train)\n",
    "\n",
    "print('Accuracy of KNN classifier on training set: {:.3f}'.format(knn_accuracy))"
   ]
  },
  {
   "cell_type": "markdown",
   "metadata": {},
   "source": [
    "#### Random Forest"
   ]
  },
  {
   "cell_type": "code",
   "execution_count": 24,
   "metadata": {},
   "outputs": [
    {
     "data": {
      "text/plain": [
       "RandomForestClassifier(random_state=2021)"
      ]
     },
     "execution_count": 24,
     "metadata": {},
     "output_type": "execute_result"
    }
   ],
   "source": [
    "# Initiate model\n",
    "classifier_RF = RandomForestClassifier(random_state=2021)\n",
    "\n",
    "# Train model\n",
    "classifier_RF.fit(X_train, y_train)"
   ]
  },
  {
   "cell_type": "code",
   "execution_count": 25,
   "metadata": {},
   "outputs": [
    {
     "name": "stdout",
     "output_type": "stream",
     "text": [
      "Accuracy of Random Forest classifier on training set: 1.000\n"
     ]
    }
   ],
   "source": [
    "# accuracy on training set\n",
    "rf_accuracy = classifier_RF.score(X_train, y_train)\n",
    "\n",
    "print('Accuracy of Random Forest classifier on training set: {:.3f}'.format(rf_accuracy))"
   ]
  },
  {
   "cell_type": "markdown",
   "metadata": {},
   "source": [
    "### Model Selection"
   ]
  },
  {
   "cell_type": "markdown",
   "metadata": {},
   "source": [
    "#### 5-fold Cross Validation"
   ]
  },
  {
   "cell_type": "markdown",
   "metadata": {},
   "source": [
    "*Note: <br>\n",
    "cross validation -> model selection <br>\n",
    "validation and training together -> parameters*"
   ]
  },
  {
   "cell_type": "code",
   "execution_count": 26,
   "metadata": {},
   "outputs": [
    {
     "name": "stdout",
     "output_type": "stream",
     "text": [
      "[0.819 0.809 0.806 0.806 0.816]\n",
      "Average accuracy of Logistic Regression on validation set is 0.811\n",
      "-----------------\n",
      "[0.834 0.829 0.827 0.813 0.829]\n",
      "Average accuracy of K-nearest Neighbors on validation set is 0.826\n",
      "-----------------\n",
      "[0.866 0.862 0.852 0.858 0.862]\n",
      "Average accuracy of Random Forest on validation set is 0.86\n",
      "-----------------\n"
     ]
    }
   ],
   "source": [
    "# 5-fold Cross Validation\n",
    "model_names = ['Logistic Regression','K-nearest Neighbors','Random Forest']\n",
    "model_list = [classifier_logistic, classifier_KNN, classifier_RF]\n",
    "\n",
    "# accuracy for different models\n",
    "index = 0\n",
    "for classifier in model_list:\n",
    "    cv_score = cross_val_score(classifier, X_train, y_train, cv=5)\n",
    "    print(cv_score.round(3))\n",
    "    print('Average accuracy of ' + model_names[index] + ' on validation set is ' + str(cv_score.mean().round(3)))\n",
    "    print('-----------------')\n",
    "    index += 1"
   ]
  },
  {
   "cell_type": "markdown",
   "metadata": {},
   "source": [
    "#### Grid Search for Optimal Hyperparameters"
   ]
  },
  {
   "cell_type": "code",
   "execution_count": 27,
   "metadata": {},
   "outputs": [],
   "source": [
    "# helper function for printing out grid search results \n",
    "def print_grid_search_metrics(gs):\n",
    "    print (\"Best score: \" + str(gs.best_score_))\n",
    "    print (\"Best parameters set:\")\n",
    "    best_parameters = gs.best_params_\n",
    "    for param_name in sorted(best_parameters.keys()):\n",
    "        print(param_name + ':' + str(best_parameters[param_name]))"
   ]
  },
  {
   "cell_type": "markdown",
   "metadata": {},
   "source": [
    "Logistics regression"
   ]
  },
  {
   "cell_type": "code",
   "execution_count": 28,
   "metadata": {},
   "outputs": [
    {
     "data": {
      "text/plain": [
       "GridSearchCV(cv=5, estimator=LogisticRegression(random_state=2021),\n",
       "             param_grid={'C': (0.01, 0.1, 0.5, 1, 5), 'penalty': ('none', 'l2'),\n",
       "                         'solver': ('lbfgs', 'sag')})"
      ]
     },
     "execution_count": 28,
     "metadata": {},
     "output_type": "execute_result"
    }
   ],
   "source": [
    "# Define parameters\n",
    "parameters = {\n",
    "    'penalty': ('none', 'l2'), \n",
    "    'C': (0.01, 0.1, 0.5, 1, 5),\n",
    "    'solver': ('lbfgs', 'sag')\n",
    "}\n",
    "\n",
    "# Search for optimal hyperparameters\n",
    "Grid_LR = GridSearchCV(LogisticRegression(random_state=2021),parameters, cv=5)\n",
    "\n",
    "Grid_LR.fit(X_train, y_train)"
   ]
  },
  {
   "cell_type": "code",
   "execution_count": 29,
   "metadata": {},
   "outputs": [
    {
     "name": "stdout",
     "output_type": "stream",
     "text": [
      "Best score: 0.811625\n",
      "Best parameters set:\n",
      "C:0.1\n",
      "penalty:l2\n",
      "solver:lbfgs\n"
     ]
    }
   ],
   "source": [
    "print_grid_search_metrics(Grid_LR)"
   ]
  },
  {
   "cell_type": "code",
   "execution_count": 30,
   "metadata": {},
   "outputs": [],
   "source": [
    "# best logistic regression\n",
    "best_LR_model = Grid_LR.best_estimator_"
   ]
  },
  {
   "cell_type": "markdown",
   "metadata": {},
   "source": [
    "KNN"
   ]
  },
  {
   "cell_type": "code",
   "execution_count": 31,
   "metadata": {},
   "outputs": [
    {
     "data": {
      "text/plain": [
       "GridSearchCV(cv=5, estimator=KNeighborsClassifier(),\n",
       "             param_grid={'metric': ('euclidean', 'minkowski', 'cosine',\n",
       "                                    'manhattan'),\n",
       "                         'n_neighbors': (1, 5, 10, 15)})"
      ]
     },
     "execution_count": 31,
     "metadata": {},
     "output_type": "execute_result"
    }
   ],
   "source": [
    "# Define parameters\n",
    "parameters = {\n",
    "    'n_neighbors': (1, 5, 10, 15),\n",
    "    'metric': ('euclidean', 'minkowski', 'cosine', 'manhattan')\n",
    "}\n",
    "\n",
    "# Search for optimal hyperparameters\n",
    "Grid_KNN = GridSearchCV(KNeighborsClassifier(),parameters, cv=5)\n",
    "\n",
    "Grid_KNN.fit(X_train, y_train)"
   ]
  },
  {
   "cell_type": "code",
   "execution_count": 32,
   "metadata": {},
   "outputs": [
    {
     "name": "stdout",
     "output_type": "stream",
     "text": [
      "Best score: 0.8383750000000001\n",
      "Best parameters set:\n",
      "metric:cosine\n",
      "n_neighbors:15\n"
     ]
    }
   ],
   "source": [
    "print_grid_search_metrics(Grid_KNN)"
   ]
  },
  {
   "cell_type": "code",
   "execution_count": 33,
   "metadata": {},
   "outputs": [],
   "source": [
    "# best KNN\n",
    "best_KNN_model = Grid_KNN.best_estimator_"
   ]
  },
  {
   "cell_type": "markdown",
   "metadata": {},
   "source": [
    "Random Forest"
   ]
  },
  {
   "cell_type": "code",
   "execution_count": 34,
   "metadata": {},
   "outputs": [
    {
     "data": {
      "text/plain": [
       "GridSearchCV(cv=5, estimator=RandomForestClassifier(random_state=2021),\n",
       "             param_grid={'criterion': ('entropy', 'gini', 'log_loss'),\n",
       "                         'max_features': ('sqrt', 'log2', 'None'),\n",
       "                         'max_samples': (50, 100, 1000),\n",
       "                         'n_estimators': (10, 50, 100, 200)})"
      ]
     },
     "execution_count": 34,
     "metadata": {},
     "output_type": "execute_result"
    }
   ],
   "source": [
    "# Define parameters\n",
    "parameters = {\n",
    "    'n_estimators': (10, 50, 100, 200),\n",
    "    'max_samples': (50, 100, 1000),\n",
    "    'max_features': ('sqrt', 'log2', 'None'),\n",
    "    'criterion': ('entropy', 'gini', 'log_loss')\n",
    "    \n",
    "}\n",
    "\n",
    "# Search for optimal hyperparameters\n",
    "Grid_RF = GridSearchCV(RandomForestClassifier(random_state=2021),parameters, cv=5)\n",
    "\n",
    "Grid_RF.fit(X_train, y_train)"
   ]
  },
  {
   "cell_type": "code",
   "execution_count": 35,
   "metadata": {
    "scrolled": true
   },
   "outputs": [
    {
     "name": "stdout",
     "output_type": "stream",
     "text": [
      "Best score: 0.8641249999999999\n",
      "Best parameters set:\n",
      "criterion:gini\n",
      "max_features:sqrt\n",
      "max_samples:1000\n",
      "n_estimators:200\n"
     ]
    }
   ],
   "source": [
    "print_grid_search_metrics(Grid_RF)"
   ]
  },
  {
   "cell_type": "code",
   "execution_count": 36,
   "metadata": {},
   "outputs": [],
   "source": [
    "# best random forest\n",
    "best_RF_model = Grid_RF.best_estimator_"
   ]
  },
  {
   "cell_type": "markdown",
   "metadata": {},
   "source": [
    "### Model Evaluation"
   ]
  },
  {
   "cell_type": "markdown",
   "metadata": {},
   "source": [
    "*TN: True negative  \n",
    "FP: False positive  \n",
    "FN: False negative  \n",
    "TP: True positive*  \n",
    "\n",
    "     |---------------------|\n",
    "     |   Predicted Values  |\n",
    "     |                     |\n",
    "     |     0          1    |\n",
    "     |---------------------|----------------------\n",
    "     |    TN    |    FP    |  0                  |\n",
    "     |          |          |      Actual Values  |\n",
    "     |    FN    |    TP    |  1                  |\n",
    "     ---------------------------------------------\n",
    "                  \n",
    "- Accuracy = (TP + TN) / (TP + FP + FN + TP)  \n",
    "    - among all events, {} are predicted correctly\n",
    "- Recall = TP / (TP + FN)  \n",
    "    - among all positive actual events, {} are predicted correctly \n",
    "- Precision = TP / (TP + FP)\n",
    "    - among all positive predicted events, {} were correct\n",
    "    "
   ]
  },
  {
   "cell_type": "markdown",
   "metadata": {},
   "source": [
    "#### Accuracy, Precision, Recall"
   ]
  },
  {
   "cell_type": "code",
   "execution_count": 37,
   "metadata": {},
   "outputs": [],
   "source": [
    "# Predict outcomes on testing set\n",
    "lr_y_pred = best_LR_model.predict(X_test)\n",
    "knn_y_pred = best_KNN_model.predict(X_test)\n",
    "rf_y_pred = best_RF_model.predict(X_test)"
   ]
  },
  {
   "cell_type": "code",
   "execution_count": 38,
   "metadata": {},
   "outputs": [],
   "source": [
    "# evaluation function for accuracy, precision, recall\n",
    "def cal_evaluation(classifier, conf_matrix):\n",
    "    tn = conf_matrix[0][0]\n",
    "    fp = conf_matrix[0][1]\n",
    "    fn = conf_matrix[1][0]\n",
    "    tp = conf_matrix[1][1]\n",
    "    accuracy  = (tp + tn) / (tp + fp + fn + tn + 0.0)\n",
    "    precision = tp / (tp + fp + 0.0)\n",
    "    recall = tp / (tp + fn + 0.0)\n",
    "    print ()\n",
    "    print (classifier)\n",
    "    print (\"Accuracy is: \" + str(accuracy.round(3)))\n",
    "    print (\"precision is: \" + str(precision.round(3)))\n",
    "    print (\"recall is: \" + str(recall.round(3)))"
   ]
  },
  {
   "cell_type": "code",
   "execution_count": 39,
   "metadata": {},
   "outputs": [
    {
     "name": "stdout",
     "output_type": "stream",
     "text": [
      "\n",
      "Logistic Regression\n",
      "Accuracy is: 0.81\n",
      "precision is: 0.606\n",
      "recall is: 0.197\n",
      "\n",
      "K Nearest Neighbors\n",
      "Accuracy is: 0.837\n",
      "precision is: 0.704\n",
      "recall is: 0.344\n",
      "\n",
      "Random Forest\n",
      "Accuracy is: 0.86\n",
      "precision is: 0.793\n",
      "recall is: 0.423\n"
     ]
    }
   ],
   "source": [
    "confusion_matrices = [\n",
    "    (\"Logistic Regression\", confusion_matrix(y_test, lr_y_pred)),\n",
    "    (\"K Nearest Neighbors\", confusion_matrix(y_test, knn_y_pred)),\n",
    "    (\"Random Forest\", confusion_matrix(y_test, rf_y_pred))\n",
    "]\n",
    "\n",
    "for element in confusion_matrices:\n",
    "    classifier, conf_matrix = element[0], element[1]\n",
    "    cal_evaluation(classifier, conf_matrix)"
   ]
  },
  {
   "cell_type": "code",
   "execution_count": 40,
   "metadata": {},
   "outputs": [
    {
     "name": "stdout",
     "output_type": "stream",
     "text": [
      "Logistic Regression\n",
      "              precision    recall  f1-score   support\n",
      "\n",
      "           0       0.82      0.97      0.89      1593\n",
      "           1       0.61      0.20      0.30       407\n",
      "\n",
      "    \n",
      "K Nearest Neighbors\n",
      "              precision    recall  f1-score   support\n",
      "\n",
      "           0       0.85      0.96      0.90      1593\n",
      "           1       0.70      0.34      0.46       407\n",
      "\n",
      "    \n",
      "Random Forest\n",
      "              precision    recall  f1-score   support\n",
      "\n",
      "           0       0.87      0.97      0.92      1593\n",
      "           1       0.79      0.42      0.55       407\n",
      "\n",
      "    \n"
     ]
    }
   ],
   "source": [
    "# Report classification results\n",
    "print('Logistic Regression')\n",
    "print(classification_report(y_test, lr_y_pred)[0:168])\n",
    "print('K Nearest Neighbors')\n",
    "print(classification_report(y_test, knn_y_pred)[0:168])\n",
    "print('Random Forest')\n",
    "print(classification_report(y_test, rf_y_pred)[0:168])"
   ]
  },
  {
   "cell_type": "markdown",
   "metadata": {},
   "source": [
    "#### ROC -AUC"
   ]
  },
  {
   "cell_type": "code",
   "execution_count": 41,
   "metadata": {},
   "outputs": [],
   "source": [
    "# Predict probabilitis on testing set\n",
    "lr_y_pred_prob = best_LR_model.predict_proba(X_test)[:,1] \n",
    "knn_y_pred_prob = best_KNN_model.predict_proba(X_test)[:,1] \n",
    "rf_y_pred_prob = best_RF_model.predict_proba(X_test)[:,1] "
   ]
  },
  {
   "cell_type": "code",
   "execution_count": 42,
   "metadata": {},
   "outputs": [],
   "source": [
    "# Calculate ROC, AUC\n",
    "lr_fpr, lr_tpr, lr_thresholds = roc_curve(y_test, lr_y_pred_prob)\n",
    "lr_auc = auc(lr_fpr, lr_tpr)\n",
    "\n",
    "knn_fpr, knn_tpr, knn_thresholds = roc_curve(y_test, knn_y_pred_prob)\n",
    "knn_auc = auc(knn_fpr, knn_tpr)\n",
    "\n",
    "rf_fpr, rf_tpr, rf_thresholds = roc_curve(y_test, rf_y_pred_prob)\n",
    "rf_auc = auc(rf_fpr, rf_tpr)"
   ]
  },
  {
   "cell_type": "code",
   "execution_count": 43,
   "metadata": {
    "scrolled": true
   },
   "outputs": [
    {
     "data": {
      "image/png": "[encoded data removed]",
      "text/plain": [
       "<Figure size 432x288 with 1 Axes>"
      ]
     },
     "metadata": {
      "needs_background": "light"
     },
     "output_type": "display_data"
    }
   ],
   "source": [
    "# ROC Curve\n",
    "plt.figure()\n",
    "plt.plot(lr_fpr, lr_tpr, label='ROC curve (area = %0.2f)' % lr_auc)\n",
    "plt.plot([0, 1], [0, 1],'r--')\n",
    "plt.xlim([0.0, 1.0])\n",
    "plt.ylim([0.0, 1.0])\n",
    "plt.xlabel('False Positive Rate')\n",
    "plt.ylabel('True Positive Rate')\n",
    "plt.title('ROC curve - LR model')\n",
    "plt.legend(loc=\"lower right\")\n",
    "plt.show()"
   ]
  },
  {
   "cell_type": "code",
   "execution_count": 44,
   "metadata": {
    "scrolled": true
   },
   "outputs": [
    {
     "data": {
      "image/png": "[encoded data removed]",
      "text/plain": [
       "<Figure size 432x288 with 1 Axes>"
      ]
     },
     "metadata": {
      "needs_background": "light"
     },
     "output_type": "display_data"
    }
   ],
   "source": [
    "# ROC Curve\n",
    "plt.figure()\n",
    "plt.plot(knn_fpr, knn_tpr, label='ROC curve (area = %0.2f)' % knn_auc)\n",
    "plt.plot([0, 1], [0, 1],'r--')\n",
    "plt.xlim([0.0, 1.0])\n",
    "plt.ylim([0.0, 1.0])\n",
    "plt.xlabel('False Positive Rate')\n",
    "plt.ylabel('True Positive Rate')\n",
    "plt.title('ROC curve - KNN model')\n",
    "plt.legend(loc=\"lower right\")\n",
    "plt.show()"
   ]
  },
  {
   "cell_type": "markdown",
   "metadata": {},
   "source": [
    "*"
   ]
  },
  {
   "cell_type": "code",
   "execution_count": 45,
   "metadata": {},
   "outputs": [
    {
     "data": {
      "image/png": "[encoded data removed]",
      "text/plain": [
       "<Figure size 432x288 with 1 Axes>"
      ]
     },
     "metadata": {
      "needs_background": "light"
     },
     "output_type": "display_data"
    }
   ],
   "source": [
    "# ROC Curve\n",
    "plt.figure()\n",
    "plt.plot(rf_fpr, rf_tpr, label='ROC curve (area = %0.2f)' % rf_auc)\n",
    "plt.plot([0, 1], [0, 1],'r--')\n",
    "plt.xlim([0.0, 1.0])\n",
    "plt.ylim([0.0, 1.0])\n",
    "plt.xlabel('False Positive Rate')\n",
    "plt.ylabel('True Positive Rate')\n",
    "plt.title('ROC curve - RF model')\n",
    "plt.legend(loc=\"lower right\")\n",
    "plt.show()"
   ]
  },
  {
   "cell_type": "markdown",
   "metadata": {},
   "source": [
    "***"
   ]
  },
  {
   "cell_type": "markdown",
   "metadata": {},
   "source": [
    "## Feature Discussion"
   ]
  },
  {
   "cell_type": "markdown",
   "metadata": {},
   "source": [
    "### Feature Selection - Logistic Regression"
   ]
  },
  {
   "cell_type": "code",
   "execution_count": 46,
   "metadata": {
    "scrolled": false
   },
   "outputs": [
    {
     "name": "stdout",
     "output_type": "stream",
     "text": [
      "Logistic Regression Coefficients\n",
      "Age : 0.7391\n",
      "IsActiveMember : -0.5224\n",
      "Geography_Germany : 0.3474\n",
      "Gender : 0.2586\n",
      "Balance : 0.1344\n",
      "CreditScore : -0.0582\n",
      "NumOfProducts : -0.057\n",
      "Tenure : -0.0378\n",
      "Geography_Spain : 0.0308\n",
      "EstimatedSalary : 0.0271\n",
      "HasCrCard : -0.0149\n"
     ]
    }
   ],
   "source": [
    "# Check coefficients\n",
    "coefs = best_LR_model.coef_[0]\n",
    "\n",
    "# Print feature ranking\n",
    "print (\"Logistic Regression Coefficients\")\n",
    "indices = np.argsort(abs(coefs))[::-1] #DESC\n",
    "for ind in range(X.shape[1]):\n",
    "    print (\"{0} : {1}\".format(features[indices[ind]],round(coefs[indices[ind]], 4)))"
   ]
  },
  {
   "cell_type": "code",
   "execution_count": 47,
   "metadata": {},
   "outputs": [],
   "source": [
    "# Assign features by +/-\n",
    "coefficients = pd.Series(coefs, index=features)\n",
    "coefs_df = pd.DataFrame(coefficients, columns=['coefs']).reset_index()\n",
    "\n",
    "df_coefs = coefs_df.assign(type=lambda x: np.where(x.coefs < 0, \"below\", \"above\"))"
   ]
  },
  {
   "cell_type": "code",
   "execution_count": 48,
   "metadata": {},
   "outputs": [
    {
     "data": {
      "image/png": "[encoded data removed]",
      "text/plain": [
       "<Figure size 600x400 with 1 Axes>"
      ]
     },
     "metadata": {},
     "output_type": "display_data"
    },
    {
     "name": "stdout",
     "output_type": "stream",
     "text": [
      "\n"
     ]
    }
   ],
   "source": [
    "# Plot \n",
    "gg = p9.ggplot(df_coefs)\n",
    "gg += p9.aes(x=\"reorder(index, coefs)\", y=\"coefs\")\n",
    "gg += p9.geom_bar(stat=\"identity\", mapping=p9.aes(fill=\"type\"))\n",
    "gg += p9.scale_fill_manual(name=\" \", \n",
    "                           labels = [\"positive\", \"negative\"], \n",
    "                           values = {\"above\":\"orange\", \"below\":\"green\"})\n",
    "gg += p9.coord_flip()\n",
    "gg += p9.labels.ggtitle('Feature Importance by Coefficient')\n",
    "gg += p9.xlab('features') + p9.ylab('')\n",
    "gg += p9.theme_bw()\n",
    "gg += p9.theme(axis_text_x = p9.element_text(angle=-90))\n",
    "gg += p9.theme(figure_size=(6, 4))\n",
    "print(gg)"
   ]
  },
  {
   "cell_type": "markdown",
   "metadata": {},
   "source": [
    "### Feature Importance - Random Forest"
   ]
  },
  {
   "cell_type": "code",
   "execution_count": 49,
   "metadata": {
    "scrolled": true
   },
   "outputs": [
    {
     "name": "stdout",
     "output_type": "stream",
     "text": [
      "Random Forest Gini Impurity:\n"
     ]
    },
    {
     "data": {
      "text/plain": [
       "Geography_Spain      0.016627\n",
       "HasCrCard            0.020704\n",
       "Gender               0.025362\n",
       "Geography_Germany    0.032231\n",
       "IsActiveMember       0.044190\n",
       "Tenure               0.084164\n",
       "NumOfProducts        0.127572\n",
       "Balance              0.134943\n",
       "CreditScore          0.139688\n",
       "EstimatedSalary      0.140344\n",
       "Age                  0.234175\n",
       "dtype: float64"
      ]
     },
     "execution_count": 49,
     "metadata": {},
     "output_type": "execute_result"
    }
   ],
   "source": [
    "# Check feature importance, gini\n",
    "impts = best_RF_model.feature_importances_\n",
    "\n",
    "# Print feature ranking\n",
    "print(\"Random Forest Gini Impurity:\")\n",
    "importances = pd.Series(impts, index=features)\n",
    "importances.sort_values()\n",
    "\n",
    "# indices = np.argsort(impts) #ASC <- the smaller, the better\n",
    "# for ind in range(X.shape[1]):\n",
    "#     print (\"{0} : {1}\".format(features[indices[ind]],round(impts[indices[ind]], 4)))"
   ]
  },
  {
   "cell_type": "code",
   "execution_count": 50,
   "metadata": {},
   "outputs": [],
   "source": [
    "# Sort features by gini\n",
    "gini_df = pd.DataFrame(importances.sort_values(), columns=['gini']).reset_index()\n",
    "\n",
    "gini_list = gini_df['index'].tolist()\n",
    "gini = pd.Categorical(gini_df['index'], categories=gini_list)\n",
    "df_gini = gini_df.assign(index = gini)"
   ]
  },
  {
   "cell_type": "code",
   "execution_count": 51,
   "metadata": {},
   "outputs": [
    {
     "data": {
      "image/png": "[encoded data removed]",
      "text/plain": [
       "<Figure size 600x400 with 1 Axes>"
      ]
     },
     "metadata": {},
     "output_type": "display_data"
    },
    {
     "name": "stdout",
     "output_type": "stream",
     "text": [
      "\n"
     ]
    }
   ],
   "source": [
    "# Plot \n",
    "gg = p9.ggplot(df_gini)\n",
    "gg += p9.aes(x='index', y='gini')\n",
    "gg += p9.geom_bar(stat=\"identity\", fill=\"steelblue\")\n",
    "gg += p9.labels.ggtitle('Feature Importance by Gini')\n",
    "gg += p9.xlab('') + p9.ylab('mean decrease in impurity')\n",
    "gg += p9.theme_bw()\n",
    "gg += p9.theme(axis_text_x = p9.element_text(angle=-90))\n",
    "gg += p9.theme(figure_size=(6, 4))\n",
    "print(gg)"
   ]
  },
  {
   "cell_type": "markdown",
   "metadata": {},
   "source": [
    "<br>"
   ]
  },
  {
   "cell_type": "markdown",
   "metadata": {},
   "source": [
    "<br>"
   ]
  }
 ],
 "metadata": {
  "kernelspec": {
   "display_name": "Python 3 (ipykernel)",
   "language": "python",
   "name": "python3"
  },
  "language_info": {
   "codemirror_mode": {
    "name": "ipython",
    "version": 3
   },
   "file_extension": ".py",
   "mimetype": "text/x-python",
   "name": "python",
   "nbconvert_exporter": "python",
   "pygments_lexer": "ipython3",
   "version": "3.9.12"
  },
  "toc": {
   "base_numbering": 1,
   "nav_menu": {},
   "number_sections": false,
   "sideBar": true,
   "skip_h1_title": false,
   "title_cell": "Table of Contents",
   "title_sidebar": "Contents",
   "toc_cell": false,
   "toc_position": {},
   "toc_section_display": true,
   "toc_window_display": false
  }
 },
 "nbformat": 4,
 "nbformat_minor": 2
}
